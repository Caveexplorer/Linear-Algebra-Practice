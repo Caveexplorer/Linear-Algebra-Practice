{
 "cells": [
  {
   "cell_type": "code",
   "execution_count": 1,
   "metadata": {},
   "outputs": [],
   "source": [
    "#%pip install -r requirements.txt"
   ]
  },
  {
   "cell_type": "code",
   "execution_count": 2,
   "metadata": {},
   "outputs": [],
   "source": [
    "import numpy as np\n",
    "from scipy import linalg"
   ]
  },
  {
   "cell_type": "markdown",
   "metadata": {},
   "source": [
    "Does this linear system have any solutions?\n",
    "\n",
    "x1 - 2x2 + x3 = 0\n",
    "\n",
    "2x2 - 8x3 = 8\n",
    "     \n",
    "5x1 - 5x3 = 10\n",
    "\n",
    "Matrix a:\n",
    "\n",
    "[1, -2, 3\n",
    "\n",
    "0, 2, -8\n",
    "\n",
    "5, 0, -5]\n",
    "\n",
    "\n",
    "Matrix b, or the resultant vector:\n",
    "\n",
    "[0\n",
    "\n",
    "8\n",
    "\n",
    "10]\n",
    "\n",
    "Below we solve for x in ax = b (this is should remind us of y = mx + b). Which vector can we multiply a by to get b? Another question being asked and answered here: Is there a solution to the linear system shown in matrix form in matrix a? Or in other words, does there exist a vector, x, containing values for x1, x2, and x3 which can satisfy this system of linear equations?"
   ]
  },
  {
   "cell_type": "code",
   "execution_count": 3,
   "metadata": {},
   "outputs": [],
   "source": [
    "# declare matrix\n",
    "a = np.array([[1, -2, 1], [0, 2, -8], [5, 0, -5]])\n",
    "# declare resultant vector\n",
    "b = np.array([[0], [8], [10]])"
   ]
  },
  {
   "cell_type": "code",
   "execution_count": 4,
   "metadata": {},
   "outputs": [
    {
     "data": {
      "text/plain": [
       "array([[ 1, -2,  1],\n",
       "       [ 0,  2, -8],\n",
       "       [ 5,  0, -5]])"
      ]
     },
     "execution_count": 4,
     "metadata": {},
     "output_type": "execute_result"
    }
   ],
   "source": [
    "a"
   ]
  },
  {
   "cell_type": "code",
   "execution_count": 5,
   "metadata": {},
   "outputs": [
    {
     "data": {
      "text/plain": [
       "array([[ 0],\n",
       "       [ 8],\n",
       "       [10]])"
      ]
     },
     "execution_count": 5,
     "metadata": {},
     "output_type": "execute_result"
    }
   ],
   "source": [
    "b"
   ]
  },
  {
   "cell_type": "code",
   "execution_count": 6,
   "metadata": {},
   "outputs": [
    {
     "data": {
      "text/plain": [
       "array([[ 1.],\n",
       "       [ 0.],\n",
       "       [-1.]])"
      ]
     },
     "execution_count": 6,
     "metadata": {},
     "output_type": "execute_result"
    }
   ],
   "source": [
    "linalg.solve(a, b)"
   ]
  },
  {
   "cell_type": "code",
   "execution_count": 7,
   "metadata": {},
   "outputs": [
    {
     "data": {
      "text/plain": [
       "array([[1, 0, 0],\n",
       "       [0, 1, 0],\n",
       "       [0, 0, 1]])"
      ]
     },
     "execution_count": 7,
     "metadata": {},
     "output_type": "execute_result"
    }
   ],
   "source": [
    "basis = np.array([[1, 0, 0],\n",
    "         [0, 1, 0],\n",
    "         [0, 0, 1]])\n",
    "basis"
   ]
  },
  {
   "cell_type": "code",
   "execution_count": 8,
   "metadata": {},
   "outputs": [
    {
     "data": {
      "text/plain": [
       "array([[0, 1, 2],\n",
       "       [3, 4, 5],\n",
       "       [6, 7, 8]])"
      ]
     },
     "execution_count": 8,
     "metadata": {},
     "output_type": "execute_result"
    }
   ],
   "source": [
    "first_transform = np.array([[0, 1, 2],\n",
    "                            [3, 4, 5],\n",
    "                            [6, 7, 8]])\n",
    "first_transform"
   ]
  },
  {
   "cell_type": "code",
   "execution_count": 9,
   "metadata": {},
   "outputs": [
    {
     "data": {
      "text/plain": [
       "array([[ 0, -2,  2],\n",
       "       [ 5,  1,  5],\n",
       "       [ 1,  4, -1]])"
      ]
     },
     "execution_count": 9,
     "metadata": {},
     "output_type": "execute_result"
    }
   ],
   "source": [
    "second_transform = np.array([[0, -2, 2],\n",
    "                            [5, 1, 5],\n",
    "                            [1, 4, -1]])\n",
    "second_transform"
   ]
  },
  {
   "cell_type": "code",
   "execution_count": 10,
   "metadata": {},
   "outputs": [
    {
     "data": {
      "text/plain": [
       "array([[ 6,  6,  6],\n",
       "       [33, 44, 55],\n",
       "       [ 6, 10, 14]])"
      ]
     },
     "execution_count": 10,
     "metadata": {},
     "output_type": "execute_result"
    }
   ],
   "source": [
    "final_vector = np.matmul(second_transform, first_transform, basis)\n",
    "final_vector"
   ]
  },
  {
   "cell_type": "code",
   "execution_count": 11,
   "metadata": {},
   "outputs": [],
   "source": [
    "# %pip freeze > requirements.txt"
   ]
  }
 ],
 "metadata": {
  "kernelspec": {
   "display_name": ".venv",
   "language": "python",
   "name": "python3"
  },
  "language_info": {
   "codemirror_mode": {
    "name": "ipython",
    "version": 3
   },
   "file_extension": ".py",
   "mimetype": "text/x-python",
   "name": "python",
   "nbconvert_exporter": "python",
   "pygments_lexer": "ipython3",
   "version": "3.11.5"
  }
 },
 "nbformat": 4,
 "nbformat_minor": 2
}
