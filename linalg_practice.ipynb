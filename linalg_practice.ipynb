{
 "cells": [
  {
   "cell_type": "code",
   "execution_count": 1,
   "metadata": {},
   "outputs": [],
   "source": [
    "#%pip install -r requirements.txt"
   ]
  },
  {
   "cell_type": "code",
   "execution_count": 30,
   "metadata": {},
   "outputs": [],
   "source": [
    "import numpy as np\n",
    "from scipy import linalg\n",
    "import matplotlib.pyplot as plt"
   ]
  },
  {
   "cell_type": "markdown",
   "metadata": {},
   "source": [
    "Does this linear system have any solutions?\n",
    "\n",
    "x1 - 2x2 + x3 = 0\n",
    "\n",
    "2x2 - 8x3 = 8\n",
    "     \n",
    "5x1 - 5x3 = 10\n",
    "\n",
    "Matrix a:\n",
    "\n",
    "[1, -2, 3\n",
    "\n",
    "0, 2, -8\n",
    "\n",
    "5, 0, -5]\n",
    "\n",
    "\n",
    "Matrix b, or the resultant vector:\n",
    "\n",
    "[0\n",
    "\n",
    "8\n",
    "\n",
    "10]\n",
    "\n",
    "Below we solve for x in ax = b (this is should remind us of y = mx + b). Which vector can we multiply a by to get b? Another question being asked and answered here: Is there a solution to the linear system shown in matrix form in matrix a? Or in other words, does there exist a vector, x, containing values for x1, x2, and x3 which can satisfy this system of linear equations?"
   ]
  },
  {
   "cell_type": "code",
   "execution_count": 3,
   "metadata": {},
   "outputs": [],
   "source": [
    "# declare matrix\n",
    "a = np.array([[1, -2, 1], [0, 2, -8], [5, 0, -5]])\n",
    "# declare resultant vector\n",
    "b = np.array([[0], [8], [10]])"
   ]
  },
  {
   "cell_type": "code",
   "execution_count": 4,
   "metadata": {},
   "outputs": [
    {
     "data": {
      "text/plain": [
       "array([[ 1, -2,  1],\n",
       "       [ 0,  2, -8],\n",
       "       [ 5,  0, -5]])"
      ]
     },
     "execution_count": 4,
     "metadata": {},
     "output_type": "execute_result"
    }
   ],
   "source": [
    "a"
   ]
  },
  {
   "cell_type": "code",
   "execution_count": 5,
   "metadata": {},
   "outputs": [
    {
     "data": {
      "text/plain": [
       "array([[ 0],\n",
       "       [ 8],\n",
       "       [10]])"
      ]
     },
     "execution_count": 5,
     "metadata": {},
     "output_type": "execute_result"
    }
   ],
   "source": [
    "b"
   ]
  },
  {
   "cell_type": "code",
   "execution_count": 6,
   "metadata": {},
   "outputs": [
    {
     "data": {
      "text/plain": [
       "array([[ 1.],\n",
       "       [ 0.],\n",
       "       [-1.]])"
      ]
     },
     "execution_count": 6,
     "metadata": {},
     "output_type": "execute_result"
    }
   ],
   "source": [
    "linalg.solve(a, b)"
   ]
  },
  {
   "cell_type": "code",
   "execution_count": 7,
   "metadata": {},
   "outputs": [
    {
     "data": {
      "text/plain": [
       "array([[1, 0, 0],\n",
       "       [0, 1, 0],\n",
       "       [0, 0, 1]])"
      ]
     },
     "execution_count": 7,
     "metadata": {},
     "output_type": "execute_result"
    }
   ],
   "source": [
    "basis = np.array([[1, 0, 0],\n",
    "         [0, 1, 0],\n",
    "         [0, 0, 1]])\n",
    "basis"
   ]
  },
  {
   "cell_type": "code",
   "execution_count": 8,
   "metadata": {},
   "outputs": [
    {
     "data": {
      "text/plain": [
       "array([[0, 1, 2],\n",
       "       [3, 4, 5],\n",
       "       [6, 7, 8]])"
      ]
     },
     "execution_count": 8,
     "metadata": {},
     "output_type": "execute_result"
    }
   ],
   "source": [
    "first_transform = np.array([[0, 1, 2],\n",
    "                            [3, 4, 5],\n",
    "                            [6, 7, 8]])\n",
    "first_transform"
   ]
  },
  {
   "cell_type": "code",
   "execution_count": 9,
   "metadata": {},
   "outputs": [
    {
     "data": {
      "text/plain": [
       "array([[ 0, -2,  2],\n",
       "       [ 5,  1,  5],\n",
       "       [ 1,  4, -1]])"
      ]
     },
     "execution_count": 9,
     "metadata": {},
     "output_type": "execute_result"
    }
   ],
   "source": [
    "second_transform = np.array([[0, -2, 2],\n",
    "                            [5, 1, 5],\n",
    "                            [1, 4, -1]])\n",
    "second_transform"
   ]
  },
  {
   "cell_type": "code",
   "execution_count": 10,
   "metadata": {},
   "outputs": [
    {
     "data": {
      "text/plain": [
       "array([[ 6,  6,  6],\n",
       "       [33, 44, 55],\n",
       "       [ 6, 10, 14]])"
      ]
     },
     "execution_count": 10,
     "metadata": {},
     "output_type": "execute_result"
    }
   ],
   "source": [
    "final_vector = np.matmul(second_transform, first_transform, basis)\n",
    "final_vector"
   ]
  },
  {
   "cell_type": "markdown",
   "metadata": {},
   "source": [
    "# Elementary Row Operations\n",
    "1. Replacement: Replace one row by the sum of itself and a multiple of another row.\n",
    "2. Interchange: Interchange two rows.\n",
    "3. Scaling: Multiply all entries in a row by a nonzero constant."
   ]
  },
  {
   "cell_type": "code",
   "execution_count": 11,
   "metadata": {},
   "outputs": [
    {
     "data": {
      "text/plain": [
       "array([[ 1, -2,  1,  0],\n",
       "       [ 0,  2, -8,  8],\n",
       "       [ 5,  0, -5, 10]])"
      ]
     },
     "execution_count": 11,
     "metadata": {},
     "output_type": "execute_result"
    }
   ],
   "source": [
    "# Example 2: Is there a solution to the following linear system represented by this matrix? If so, is the solution set unique?\n",
    "ex2_matrix = np.array([[1, -2, 1],\n",
    "                 [0, 2, -8],\n",
    "                 [5, 0, -5]])\n",
    "ex2_soution_vector = np.array([[0], \n",
    "                               [8], \n",
    "                               [10]])\n",
    "\n",
    "augmented_matrix = np.concatenate((ex2_matrix, ex2_soution_vector), axis = 1)\n",
    "augmented_matrix"
   ]
  },
  {
   "cell_type": "code",
   "execution_count": 12,
   "metadata": {},
   "outputs": [
    {
     "data": {
      "text/plain": [
       "array([[ 1, -2,  1,  0],\n",
       "       [ 0,  1, -4,  4],\n",
       "       [ 5,  0, -5, 10]])"
      ]
     },
     "execution_count": 12,
     "metadata": {},
     "output_type": "execute_result"
    }
   ],
   "source": [
    "# Step 1: row2 = row2 * 1/2\n",
    "augmented_matrix[1] = augmented_matrix[1] * 0.5\n",
    "augmented_matrix"
   ]
  },
  {
   "cell_type": "code",
   "execution_count": 13,
   "metadata": {},
   "outputs": [
    {
     "data": {
      "text/plain": [
       "array([[  1,  -2,   1,   0],\n",
       "       [  0,   1,  -4,   4],\n",
       "       [  0, -10,  10, -10]])"
      ]
     },
     "execution_count": 13,
     "metadata": {},
     "output_type": "execute_result"
    }
   ],
   "source": [
    "# Step 2: row3 = row1 * 5 - row3\n",
    "augmented_matrix[2] = augmented_matrix[0] * 5 - augmented_matrix[2]\n",
    "augmented_matrix"
   ]
  },
  {
   "cell_type": "code",
   "execution_count": 14,
   "metadata": {},
   "outputs": [
    {
     "data": {
      "text/plain": [
       "array([[  1,  -2,   1,   0],\n",
       "       [  0,   1,  -4,   4],\n",
       "       [  0,   0, -30,  30]])"
      ]
     },
     "execution_count": 14,
     "metadata": {},
     "output_type": "execute_result"
    }
   ],
   "source": [
    "# Step 3: row3 = row2 * 10 + row3\n",
    "augmented_matrix[2] = augmented_matrix[1] * 10 + augmented_matrix[2]\n",
    "augmented_matrix"
   ]
  },
  {
   "cell_type": "code",
   "execution_count": 15,
   "metadata": {},
   "outputs": [
    {
     "data": {
      "text/plain": [
       "array([[ 1, -2,  1,  0],\n",
       "       [ 0,  1, -4,  4],\n",
       "       [ 0,  0,  1, -1]])"
      ]
     },
     "execution_count": 15,
     "metadata": {},
     "output_type": "execute_result"
    }
   ],
   "source": [
    "# Step 4: row3 = row3 / -30\n",
    "augmented_matrix[2] = augmented_matrix[2] / -30\n",
    "augmented_matrix\n",
    "\n",
    "#x3 = -1"
   ]
  },
  {
   "cell_type": "code",
   "execution_count": 16,
   "metadata": {},
   "outputs": [
    {
     "data": {
      "text/plain": [
       "array([[ 1.],\n",
       "       [ 0.],\n",
       "       [-1.]])"
      ]
     },
     "execution_count": 16,
     "metadata": {},
     "output_type": "execute_result"
    }
   ],
   "source": [
    "#x1 = 1\n",
    "#x2 = 0\n",
    "#x3 = -1\n",
    "# Yes, the linear system has a unique solution: [1, 0, -1]\n",
    "\n",
    "# Check\n",
    "linalg.solve(ex2_matrix, ex2_soution_vector)"
   ]
  },
  {
   "cell_type": "code",
   "execution_count": 17,
   "metadata": {},
   "outputs": [
    {
     "data": {
      "text/plain": [
       "array([[ 1, -2,  1,  0],\n",
       "       [ 0,  2, -8,  8],\n",
       "       [ 5,  0, -5, 10]])"
      ]
     },
     "execution_count": 17,
     "metadata": {},
     "output_type": "execute_result"
    }
   ],
   "source": [
    "# Example 3: Is there a solution to the following linear system represented by this matrix? If so, is the solution set unique?\n",
    "ex3_matrix = np.array([[0, 1, -4],\n",
    "                 [2, -3, 2],\n",
    "                 [4, -8, 12]])\n",
    "ex3_soution_vector = np.array([[8], \n",
    "                               [1], \n",
    "                               [1]])\n",
    "\n",
    "augmented_matrix = np.concatenate((ex2_matrix, ex2_soution_vector), axis = 1)\n",
    "augmented_matrix"
   ]
  },
  {
   "cell_type": "code",
   "execution_count": 18,
   "metadata": {},
   "outputs": [
    {
     "name": "stdout",
     "output_type": "stream",
     "text": [
      "The matrix has no solutions.\n"
     ]
    }
   ],
   "source": [
    "try:\n",
    "    print(linalg.solve(ex3_matrix, ex3_soution_vector))\n",
    "except:\n",
    "    print('The matrix has no solutions.')"
   ]
  },
  {
   "cell_type": "code",
   "execution_count": 19,
   "metadata": {},
   "outputs": [
    {
     "data": {
      "text/plain": [
       "array([[ 4, -4],\n",
       "       [ 7, 11]])"
      ]
     },
     "execution_count": 19,
     "metadata": {},
     "output_type": "execute_result"
    }
   ],
   "source": [
    "augmented_matrix = np.array([\n",
    "    [2, 4, -4],\n",
    "    [5, 7, 11],\n",
    "]\n",
    ")\n",
    "augmented_matrix[:,-2:]"
   ]
  },
  {
   "cell_type": "code",
   "execution_count": 20,
   "metadata": {},
   "outputs": [
    {
     "name": "stdout",
     "output_type": "stream",
     "text": [
      "The linear system has no solutions.\n"
     ]
    }
   ],
   "source": [
    "# Determine if the augmented matrix is consistent\n",
    "augmented_matrix = np.array([\n",
    "    [1, -3, 4, -4],\n",
    "    [3, -7, 7, -8],\n",
    "    [-4, 6, -1, 7]\n",
    "]\n",
    ")\n",
    "\n",
    "try:\n",
    "    print(linalg.solve(augmented_matrix[:,:-1], augmented_matrix[:,[-1]]))\n",
    "except:\n",
    "    print('The linear system has no solutions.')"
   ]
  },
  {
   "cell_type": "code",
   "execution_count": 66,
   "metadata": {},
   "outputs": [
    {
     "name": "stdout",
     "output_type": "stream",
     "text": [
      "The linear system has no solutions.\n"
     ]
    }
   ],
   "source": [
    "# 1.1 Question 17\n",
    "# Determine if the augmented matrix is consistent\n",
    "augmented_matrix = np.array([\n",
    "    [1, -4, 1],\n",
    "    [2, -1, -3],\n",
    "    [-1, -3, 4]\n",
    "]\n",
    ")\n",
    "\n",
    "try:\n",
    "    print(linalg.solve(augmented_matrix[:,:-1], augmented_matrix[:,[-1]]))\n",
    "except:\n",
    "    print('The linear system has no solutions.')"
   ]
  },
  {
   "cell_type": "code",
   "execution_count": 67,
   "metadata": {},
   "outputs": [
    {
     "ename": "ValueError",
     "evalue": "Input a needs to be a square matrix.",
     "output_type": "error",
     "traceback": [
      "\u001b[1;31m---------------------------------------------------------------------------\u001b[0m",
      "\u001b[1;31mValueError\u001b[0m                                Traceback (most recent call last)",
      "\u001b[1;32mc:\\Users\\metal\\Desktop\\lin_alg_practice\\linalg_practice.ipynb Cell 24\u001b[0m line \u001b[0;36m1\n\u001b[1;32m----> <a href='vscode-notebook-cell:/c%3A/Users/metal/Desktop/lin_alg_practice/linalg_practice.ipynb#X51sZmlsZQ%3D%3D?line=0'>1</a>\u001b[0m linalg\u001b[39m.\u001b[39;49msolve(augmented_matrix[:,:\u001b[39m-\u001b[39;49m\u001b[39m1\u001b[39;49m], augmented_matrix[:,[\u001b[39m-\u001b[39;49m\u001b[39m1\u001b[39;49m]])\n",
      "File \u001b[1;32mc:\\Users\\metal\\Desktop\\lin_alg_practice\\linalg_practice_venv\\Lib\\site-packages\\scipy\\linalg\\_basic.py:156\u001b[0m, in \u001b[0;36msolve\u001b[1;34m(a, b, lower, overwrite_a, overwrite_b, check_finite, assume_a, transposed)\u001b[0m\n\u001b[0;32m    153\u001b[0m overwrite_b \u001b[39m=\u001b[39m overwrite_b \u001b[39mor\u001b[39;00m _datacopied(b1, b)\n\u001b[0;32m    155\u001b[0m \u001b[39mif\u001b[39;00m a1\u001b[39m.\u001b[39mshape[\u001b[39m0\u001b[39m] \u001b[39m!=\u001b[39m a1\u001b[39m.\u001b[39mshape[\u001b[39m1\u001b[39m]:\n\u001b[1;32m--> 156\u001b[0m     \u001b[39mraise\u001b[39;00m \u001b[39mValueError\u001b[39;00m(\u001b[39m'\u001b[39m\u001b[39mInput a needs to be a square matrix.\u001b[39m\u001b[39m'\u001b[39m)\n\u001b[0;32m    158\u001b[0m \u001b[39mif\u001b[39;00m n \u001b[39m!=\u001b[39m b1\u001b[39m.\u001b[39mshape[\u001b[39m0\u001b[39m]:\n\u001b[0;32m    159\u001b[0m     \u001b[39m# Last chance to catch 1x1 scalar a and 1-D b arrays\u001b[39;00m\n\u001b[0;32m    160\u001b[0m     \u001b[39mif\u001b[39;00m \u001b[39mnot\u001b[39;00m (n \u001b[39m==\u001b[39m \u001b[39m1\u001b[39m \u001b[39mand\u001b[39;00m b1\u001b[39m.\u001b[39msize \u001b[39m!=\u001b[39m \u001b[39m0\u001b[39m):\n",
      "\u001b[1;31mValueError\u001b[0m: Input a needs to be a square matrix."
     ]
    }
   ],
   "source": [
    "linalg.solve(augmented_matrix[:,:-1], augmented_matrix[:,[-1]])"
   ]
  },
  {
   "cell_type": "code",
   "execution_count": 65,
   "metadata": {},
   "outputs": [
    {
     "data": {
      "text/plain": [
       "[<matplotlib.lines.Line2D at 0x1fe6f11b9d0>]"
      ]
     },
     "execution_count": 65,
     "metadata": {},
     "output_type": "execute_result"
    },
    {
     "data": {
      "image/png": "[encoded data removed]",
      "text/plain": [
       "<Figure size 640x480 with 1 Axes>"
      ]
     },
     "metadata": {},
     "output_type": "display_data"
    }
   ],
   "source": [
    "# Visualize question 17\n",
    "x = np.array(range(-100, 101))\n",
    "y1 = [(x - 1) / 4 for x in x]\n",
    "y2 = [(2 * x) + 3 for x in x]\n",
    "y3 = [(4 - x) / 3 for x in x]\n",
    "\n",
    "plt.plot(x, y1)\n",
    "plt.plot(x, y2)\n",
    "plt.plot(x, y3)"
   ]
  },
  {
   "cell_type": "code",
   "execution_count": null,
   "metadata": {},
   "outputs": [],
   "source": [
    "# def linear_system_solver(matrix, solution_vector):\n",
    "#     augmented_matrix = np.concatenate((matrix, solution_vector), axis = 1)\n",
    "#     for row in range(np.shape(augmented_matrix.shape)[0] + 1):\n",
    "#         while augmented_matrix[row, 0] == 0:\n",
    "#             augmented_matrix[row] "
   ]
  },
  {
   "cell_type": "code",
   "execution_count": 31,
   "metadata": {},
   "outputs": [
    {
     "name": "stdout",
     "output_type": "stream",
     "text": [
      "Note: you may need to restart the kernel to use updated packages.\n"
     ]
    }
   ],
   "source": [
    "# %pip freeze > requirements.txt"
   ]
  }
 ],
 "metadata": {
  "kernelspec": {
   "display_name": ".venv",
   "language": "python",
   "name": "python3"
  },
  "language_info": {
   "codemirror_mode": {
    "name": "ipython",
    "version": 3
   },
   "file_extension": ".py",
   "mimetype": "text/x-python",
   "name": "python",
   "nbconvert_exporter": "python",
   "pygments_lexer": "ipython3",
   "version": "3.11.5"
  }
 },
 "nbformat": 4,
 "nbformat_minor": 2
}
