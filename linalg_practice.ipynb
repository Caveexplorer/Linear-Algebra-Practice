{
 "cells": [
  {
   "cell_type": "code",
   "execution_count": 1,
   "metadata": {},
   "outputs": [],
   "source": [
    "#%pip install -r requirements.txt"
   ]
  },
  {
   "cell_type": "code",
   "execution_count": 2,
   "metadata": {},
   "outputs": [],
   "source": [
    "import numpy as np\n",
    "from scipy import linalg"
   ]
  },
  {
   "cell_type": "markdown",
   "metadata": {},
   "source": [
    "Does this linear system have any solutions?\n",
    "\n",
    "x1 - 2x2 + x3 = 0\n",
    "\n",
    "2x2 - 8x3 = 8\n",
    "     \n",
    "5x1 - 5x3 = 10\n",
    "\n",
    "Matrix a:\n",
    "\n",
    "[1, -2, 3\n",
    "\n",
    "0, 2, -8\n",
    "\n",
    "5, 0, -5]\n",
    "\n",
    "\n",
    "Matrix b, or the resultant vector:\n",
    "\n",
    "[0\n",
    "\n",
    "8\n",
    "\n",
    "10]\n",
    "\n",
    "Below we solve for x in ax = b (this is should remind us of y = mx + b). Which vector can we multiply a by to get b? Another question being asked and answered here: Is there a solution to the linear system shown in matrix form in matrix a? Or in other words, does there exist a vector, x, containing values for x1, x2, and x3 which can satisfy this system of linear equations?"
   ]
  },
  {
   "cell_type": "code",
   "execution_count": 3,
   "metadata": {},
   "outputs": [],
   "source": [
    "# declare matrix\n",
    "a = np.array([[1, -2, 1], [0, 2, -8], [5, 0, -5]])\n",
    "# declare resultant vector\n",
    "b = np.array([[0], [8], [10]])"
   ]
  },
  {
   "cell_type": "code",
   "execution_count": 4,
   "metadata": {},
   "outputs": [
    {
     "data": {
      "text/plain": [
       "array([[ 1, -2,  1],\n",
       "       [ 0,  2, -8],\n",
       "       [ 5,  0, -5]])"
      ]
     },
     "execution_count": 4,
     "metadata": {},
     "output_type": "execute_result"
    }
   ],
   "source": [
    "a"
   ]
  },
  {
   "cell_type": "code",
   "execution_count": 5,
   "metadata": {},
   "outputs": [
    {
     "data": {
      "text/plain": [
       "array([[ 0],\n",
       "       [ 8],\n",
       "       [10]])"
      ]
     },
     "execution_count": 5,
     "metadata": {},
     "output_type": "execute_result"
    }
   ],
   "source": [
    "b"
   ]
  },
  {
   "cell_type": "code",
   "execution_count": 6,
   "metadata": {},
   "outputs": [
    {
     "data": {
      "text/plain": [
       "array([[ 1.],\n",
       "       [ 0.],\n",
       "       [-1.]])"
      ]
     },
     "execution_count": 6,
     "metadata": {},
     "output_type": "execute_result"
    }
   ],
   "source": [
    "linalg.solve(a, b)"
   ]
  },
  {
   "cell_type": "code",
   "execution_count": 7,
   "metadata": {},
   "outputs": [
    {
     "data": {
      "text/plain": [
       "array([[1, 0, 0],\n",
       "       [0, 1, 0],\n",
       "       [0, 0, 1]])"
      ]
     },
     "execution_count": 7,
     "metadata": {},
     "output_type": "execute_result"
    }
   ],
   "source": [
    "basis = np.array([[1, 0, 0],\n",
    "         [0, 1, 0],\n",
    "         [0, 0, 1]])\n",
    "basis"
   ]
  },
  {
   "cell_type": "code",
   "execution_count": 8,
   "metadata": {},
   "outputs": [
    {
     "data": {
      "text/plain": [
       "array([[0, 1, 2],\n",
       "       [3, 4, 5],\n",
       "       [6, 7, 8]])"
      ]
     },
     "execution_count": 8,
     "metadata": {},
     "output_type": "execute_result"
    }
   ],
   "source": [
    "first_transform = np.array([[0, 1, 2],\n",
    "                            [3, 4, 5],\n",
    "                            [6, 7, 8]])\n",
    "first_transform"
   ]
  },
  {
   "cell_type": "code",
   "execution_count": 9,
   "metadata": {},
   "outputs": [
    {
     "data": {
      "text/plain": [
       "array([[ 0, -2,  2],\n",
       "       [ 5,  1,  5],\n",
       "       [ 1,  4, -1]])"
      ]
     },
     "execution_count": 9,
     "metadata": {},
     "output_type": "execute_result"
    }
   ],
   "source": [
    "second_transform = np.array([[0, -2, 2],\n",
    "                            [5, 1, 5],\n",
    "                            [1, 4, -1]])\n",
    "second_transform"
   ]
  },
  {
   "cell_type": "code",
   "execution_count": 10,
   "metadata": {},
   "outputs": [
    {
     "data": {
      "text/plain": [
       "array([[ 6,  6,  6],\n",
       "       [33, 44, 55],\n",
       "       [ 6, 10, 14]])"
      ]
     },
     "execution_count": 10,
     "metadata": {},
     "output_type": "execute_result"
    }
   ],
   "source": [
    "final_vector = np.matmul(second_transform, first_transform, basis)\n",
    "final_vector"
   ]
  },
  {
   "cell_type": "markdown",
   "metadata": {},
   "source": [
    "# Elementary Row Operations\n",
    "1. Replacement: Replace one row by the sum of itself and a multiple of another row.\n",
    "2. Interchange: Interchange two rows.\n",
    "3. Scaling: Multiply all entries in a row by a nonzero constant."
   ]
  },
  {
   "cell_type": "code",
   "execution_count": 11,
   "metadata": {},
   "outputs": [
    {
     "data": {
      "text/plain": [
       "array([[ 1, -2,  1,  0],\n",
       "       [ 0,  2, -8,  8],\n",
       "       [ 5,  0, -5, 10]])"
      ]
     },
     "execution_count": 11,
     "metadata": {},
     "output_type": "execute_result"
    }
   ],
   "source": [
    "# Example 2: Is there a solution to the following linear system represented by this matrix? If so, is the solution set unique?\n",
    "ex2_matrix = np.array([[1, -2, 1],\n",
    "                 [0, 2, -8],\n",
    "                 [5, 0, -5]])\n",
    "ex2_soution_vector = np.array([[0], \n",
    "                               [8], \n",
    "                               [10]])\n",
    "\n",
    "augmented_matrix = np.concatenate((ex2_matrix, ex2_soution_vector), axis = 1)\n",
    "augmented_matrix"
   ]
  },
  {
   "cell_type": "code",
   "execution_count": 12,
   "metadata": {},
   "outputs": [
    {
     "data": {
      "text/plain": [
       "array([[ 1, -2,  1,  0],\n",
       "       [ 0,  1, -4,  4],\n",
       "       [ 5,  0, -5, 10]])"
      ]
     },
     "execution_count": 12,
     "metadata": {},
     "output_type": "execute_result"
    }
   ],
   "source": [
    "# Step 1: row2 = row2 * 1/2\n",
    "augmented_matrix[1] = augmented_matrix[1] * 0.5\n",
    "augmented_matrix"
   ]
  },
  {
   "cell_type": "code",
   "execution_count": 13,
   "metadata": {},
   "outputs": [
    {
     "data": {
      "text/plain": [
       "array([[  1,  -2,   1,   0],\n",
       "       [  0,   1,  -4,   4],\n",
       "       [  0, -10,  10, -10]])"
      ]
     },
     "execution_count": 13,
     "metadata": {},
     "output_type": "execute_result"
    }
   ],
   "source": [
    "# Step 2: row3 = row1 * 5 - row3\n",
    "augmented_matrix[2] = augmented_matrix[0] * 5 - augmented_matrix[2]\n",
    "augmented_matrix"
   ]
  },
  {
   "cell_type": "code",
   "execution_count": 14,
   "metadata": {},
   "outputs": [
    {
     "data": {
      "text/plain": [
       "array([[  1,  -2,   1,   0],\n",
       "       [  0,   1,  -4,   4],\n",
       "       [  0,   0, -30,  30]])"
      ]
     },
     "execution_count": 14,
     "metadata": {},
     "output_type": "execute_result"
    }
   ],
   "source": [
    "# Step 3: row3 = row2 * 10 + row3\n",
    "augmented_matrix[2] = augmented_matrix[1] * 10 + augmented_matrix[2]\n",
    "augmented_matrix"
   ]
  },
  {
   "cell_type": "code",
   "execution_count": 15,
   "metadata": {},
   "outputs": [
    {
     "data": {
      "text/plain": [
       "array([[ 1, -2,  1,  0],\n",
       "       [ 0,  1, -4,  4],\n",
       "       [ 0,  0,  1, -1]])"
      ]
     },
     "execution_count": 15,
     "metadata": {},
     "output_type": "execute_result"
    }
   ],
   "source": [
    "# Step 4: row3 = row3 / -30\n",
    "augmented_matrix[2] = augmented_matrix[2] / -30\n",
    "augmented_matrix\n",
    "\n",
    "#x3 = -1"
   ]
  },
  {
   "cell_type": "code",
   "execution_count": 16,
   "metadata": {},
   "outputs": [
    {
     "data": {
      "text/plain": [
       "array([[ 1.],\n",
       "       [ 0.],\n",
       "       [-1.]])"
      ]
     },
     "execution_count": 16,
     "metadata": {},
     "output_type": "execute_result"
    }
   ],
   "source": [
    "#x1 = 1\n",
    "#x2 = 0\n",
    "#x3 = -1\n",
    "# Yes, the linear system has a unique solution: [1, 0, -1]\n",
    "\n",
    "# Check\n",
    "linalg.solve(ex2_matrix, ex2_soution_vector)"
   ]
  },
  {
   "cell_type": "code",
   "execution_count": 28,
   "metadata": {},
   "outputs": [
    {
     "data": {
      "text/plain": [
       "array([[ 0,  1, -4,  8],\n",
       "       [ 2, -3,  2,  1],\n",
       "       [ 4, -8, 12,  1]])"
      ]
     },
     "execution_count": 28,
     "metadata": {},
     "output_type": "execute_result"
    }
   ],
   "source": [
    "# Example 3: Is there a solution to the following linear system represented by this matrix? If so, is the solution set unique?\n",
    "ex3_matrix = np.array([[0, 1, -4],\n",
    "                 [2, -3, 2],\n",
    "                 [4, -8, 12]])\n",
    "ex3_soution_vector = np.array([[8], \n",
    "                               [1], \n",
    "                               [1]])\n",
    "\n",
    "augmented_matrix = np.concatenate((ex2_matrix, ex2_soution_vector), axis = 1)\n",
    "augmented_matrix"
   ]
  },
  {
   "cell_type": "code",
   "execution_count": 34,
   "metadata": {},
   "outputs": [
    {
     "name": "stdout",
     "output_type": "stream",
     "text": [
      "The matrix has no solutions.\n"
     ]
    }
   ],
   "source": [
    "try:\n",
    "    print(linalg.solve(ex3_matrix, ex3_soution_vector))\n",
    "except:\n",
    "    print('The matrix has no solutions.')"
   ]
  },
  {
   "cell_type": "code",
   "execution_count": 67,
   "metadata": {},
   "outputs": [
    {
     "data": {
      "text/plain": [
       "array([[ 4, -4],\n",
       "       [ 7, 11]])"
      ]
     },
     "execution_count": 67,
     "metadata": {},
     "output_type": "execute_result"
    }
   ],
   "source": [
    "augmented_matrix = np.array([\n",
    "    [2, 4, -4],\n",
    "    [5, 7, 11],\n",
    "]\n",
    ")\n",
    "augmented_matrix[:,-2:]"
   ]
  },
  {
   "cell_type": "code",
   "execution_count": 86,
   "metadata": {},
   "outputs": [
    {
     "name": "stdout",
     "output_type": "stream",
     "text": [
      "The linear system has no solutions.\n"
     ]
    }
   ],
   "source": [
    "# Determine if the augmented matrix is consistent\n",
    "augmented_matrix = np.array([\n",
    "    [1, -3, 4, -4],\n",
    "    [3, -7, 7, -8],\n",
    "    [-4, 6, -1, 7]\n",
    "]\n",
    ")\n",
    "\n",
    "try:\n",
    "    print(linalg.solve(augmented_matrix[:,:-1], augmented_matrix[:,[-1]]))\n",
    "except:\n",
    "    print('The linear system has no solutions.')"
   ]
  },
  {
   "cell_type": "code",
   "execution_count": 85,
   "metadata": {},
   "outputs": [
    {
     "name": "stderr",
     "output_type": "stream",
     "text": [
      "C:\\Users\\metal\\AppData\\Local\\Temp\\ipykernel_18728\\1657843328.py:1: LinAlgWarning: Ill-conditioned matrix (rcond=4.62593e-18): result may not be accurate.\n",
      "  linalg.solve(augmented_matrix[:,:-1], augmented_matrix[:,[-1]])\n"
     ]
    },
    {
     "data": {
      "text/plain": [
       "array([[ 5.25419957e+15],\n",
       "       [-3.00239975e+15],\n",
       "       [ 7.50599938e+14]])"
      ]
     },
     "execution_count": 85,
     "metadata": {},
     "output_type": "execute_result"
    }
   ],
   "source": [
    "linalg.solve(augmented_matrix[:,:-1], augmented_matrix[:,[-1]])"
   ]
  },
  {
   "cell_type": "code",
   "execution_count": null,
   "metadata": {},
   "outputs": [],
   "source": [
    "# def linear_system_solver(matrix, solution_vector):\n",
    "#     augmented_matrix = np.concatenate((matrix, solution_vector), axis = 1)\n",
    "#     for row in range(np.shape(augmented_matrix.shape)[0] + 1):\n",
    "#         while augmented_matrix[row, 0] == 0:\n",
    "#             augmented_matrix[row] "
   ]
  },
  {
   "cell_type": "code",
   "execution_count": 17,
   "metadata": {},
   "outputs": [],
   "source": [
    "# %pip freeze > requirements.txt"
   ]
  }
 ],
 "metadata": {
  "kernelspec": {
   "display_name": ".venv",
   "language": "python",
   "name": "python3"
  },
  "language_info": {
   "codemirror_mode": {
    "name": "ipython",
    "version": 3
   },
   "file_extension": ".py",
   "mimetype": "text/x-python",
   "name": "python",
   "nbconvert_exporter": "python",
   "pygments_lexer": "ipython3",
   "version": "3.11.5"
  }
 },
 "nbformat": 4,
 "nbformat_minor": 2
}
